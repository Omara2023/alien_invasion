{
 "cells": [
  {
   "cell_type": "code",
   "execution_count": 47,
   "metadata": {},
   "outputs": [
    {
     "name": "stdout",
     "output_type": "stream",
     "text": [
      "53.0% of samples were above 20\n"
     ]
    }
   ],
   "source": [
    "from random import randint as rn\n",
    "\n",
    "def sum_grid(grid: list[list]):\n",
    "    total = 0\n",
    "    for i in grid:\n",
    "        total += sum(i)\n",
    "    return total\n",
    "\n",
    "def random_grid(acceptable_min):\n",
    "    while True:\n",
    "        output = [[rn(0,1) for _ in range(5)] for _ in range(5)]\n",
    "        total = sum_grid(output)\n",
    "        if total >= acceptable_min:\n",
    "            return output\n",
    "\n",
    "num = 0\n",
    "for _ in range(100):\n",
    "    grid = random_grid(15)\n",
    "    if (total := sum_grid(grid)) > 15:\n",
    "        num += 1 \n",
    "\n",
    "print(f'{(num/100) * 100}% of samples were above 20')"
   ]
  },
  {
   "cell_type": "code",
   "execution_count": 12,
   "metadata": {},
   "outputs": [
    {
     "name": "stdout",
     "output_type": "stream",
     "text": [
      "[[0, 1, 1, 1, 0], [1, 1, 0, 1, 0], [0, 1, 1, 1, 0], [0, 1, 0, 0, 1], [1, 0, 0, 1, 0]] 13\n"
     ]
    }
   ],
   "source": [
    "grid = [[0, 1, 1, 1, 0],\n",
    " [1, 1, 0, 1, 0],\n",
    " [0, 1, 1, 1, 0],\n",
    " [0, 1, 0, 0, 1],\n",
    " [1, 0, 0, 1, 0]]\n",
    "\n",
    "total = 0\n",
    "for i in grid:\n",
    "    total += sum(i)\n",
    "print(grid, total)"
   ]
  },
  {
   "cell_type": "code",
   "execution_count": null,
   "metadata": {},
   "outputs": [],
   "source": []
  }
 ],
 "metadata": {
  "kernelspec": {
   "display_name": "Python 3",
   "language": "python",
   "name": "python3"
  },
  "language_info": {
   "codemirror_mode": {
    "name": "ipython",
    "version": 3
   },
   "file_extension": ".py",
   "mimetype": "text/x-python",
   "name": "python",
   "nbconvert_exporter": "python",
   "pygments_lexer": "ipython3",
   "version": "3.11.4"
  },
  "orig_nbformat": 4
 },
 "nbformat": 4,
 "nbformat_minor": 2
}
